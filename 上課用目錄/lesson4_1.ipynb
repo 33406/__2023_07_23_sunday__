{
 "cells": [
  {
   "cell_type": "code",
   "execution_count": 1,
   "metadata": {},
   "outputs": [
    {
     "name": "stdout",
     "output_type": "stream",
     "text": [
      "1\n",
      "2\n",
      "3\n",
      "4\n",
      "5\n"
     ]
    }
   ],
   "source": [
    "for i in range(1,6):\n",
    "    print(i)"
   ]
  },
  {
   "cell_type": "code",
   "execution_count": 2,
   "metadata": {},
   "outputs": [
    {
     "name": "stdout",
     "output_type": "stream",
     "text": [
      "1\n",
      "2\n",
      "3\n",
      "4\n",
      "5\n"
     ]
    }
   ],
   "source": [
    "#while,知道執行的數字\n",
    "i = 1\n",
    "while i < 6:\n",
    "    print(i)\n",
    "    i += 1"
   ]
  },
  {
   "cell_type": "code",
   "execution_count": 4,
   "metadata": {},
   "outputs": [
    {
     "name": "stdout",
     "output_type": "stream",
     "text": [
      "存6月,已經存了125369元\n"
     ]
    }
   ],
   "source": [
    "scooter = 30000\n",
    "deposit = 0\n",
    "month = 0\n",
    "\n",
    "while deposit < scooter:\n",
    "    month += 1\n",
    "    month_value = int(input(f\"輸入第{month}個月的存款\"))\n",
    "    deposit += month_value\n",
    "\n",
    "print(f\"存{month}個月,已經存了{deposit}元\")"
   ]
  },
  {
   "cell_type": "code",
   "execution_count": 5,
   "metadata": {},
   "outputs": [
    {
     "name": "stdout",
     "output_type": "stream",
     "text": [
      "Fxck\n",
      "程式結束\n"
     ]
    }
   ],
   "source": [
    "stuff = input(\"輸入小寫的英文字[按q會離開]\")\n",
    "while stuff != \"q\":\n",
    "    print(stuff.capitalize())\n",
    "    stuff = input(\"輸入小寫的英文字[按q會離開]\")\n",
    "\n",
    "print(\"程式結束\")"
   ]
  },
  {
   "cell_type": "code",
   "execution_count": 7,
   "metadata": {},
   "outputs": [
    {
     "name": "stdout",
     "output_type": "stream",
     "text": [
      "Bhfjkbh\n",
      "Sfnsfgn\n",
      "程式結束\n"
     ]
    }
   ],
   "source": [
    "while True:\n",
    "    stuff = input(\"輸入小寫的英文字[按q會離開]\")\n",
    "    if stuff == \"q\":\n",
    "        break\n",
    "    else: \n",
    "        print(stuff.capitalize())\n",
    "\n",
    "print(\"程式結束\")"
   ]
  },
  {
   "cell_type": "code",
   "execution_count": 10,
   "metadata": {},
   "outputs": [
    {
     "name": "stdout",
     "output_type": "stream",
     "text": [
      "程式結束,正偶數sum是6\n"
     ]
    }
   ],
   "source": [
    "sum = 0\n",
    "while True:\n",
    "    plus_num = int(input(\"輸入數值\"))\n",
    "    if plus_num < 0:\n",
    "        break\n",
    "    elif plus_num %2 == 1:\n",
    "        continue\n",
    "    else:\n",
    "        sum += plus_num\n",
    "\n",
    "print(f\"程式結束,正偶數的sum是{sum}\")"
   ]
  },
  {
   "cell_type": "code",
   "execution_count": 96,
   "metadata": {},
   "outputs": [
    {
     "data": {
      "text/plain": [
       "3"
      ]
     },
     "execution_count": 96,
     "metadata": {},
     "output_type": "execute_result"
    }
   ],
   "source": [
    "import random\n",
    "random.randrange(5) #0~4"
   ]
  },
  {
   "cell_type": "code",
   "execution_count": 67,
   "metadata": {},
   "outputs": [
    {
     "data": {
      "text/plain": [
       "1"
      ]
     },
     "execution_count": 67,
     "metadata": {},
     "output_type": "execute_result"
    }
   ],
   "source": [
    "random.randrange(1,3) #1~2"
   ]
  },
  {
   "cell_type": "code",
   "execution_count": 91,
   "metadata": {},
   "outputs": [
    {
     "data": {
      "text/plain": [
       "9"
      ]
     },
     "execution_count": 91,
     "metadata": {},
     "output_type": "execute_result"
    }
   ],
   "source": [
    "random.randint(1,10) #1~10"
   ]
  }
 ],
 "metadata": {
  "kernelspec": {
   "display_name": "Python 3",
   "language": "python",
   "name": "python3"
  },
  "language_info": {
   "codemirror_mode": {
    "name": "ipython",
    "version": 3
   },
   "file_extension": ".py",
   "mimetype": "text/x-python",
   "name": "python",
   "nbconvert_exporter": "python",
   "pygments_lexer": "ipython3",
   "version": "3.10.12"
  },
  "orig_nbformat": 4
 },
 "nbformat": 4,
 "nbformat_minor": 2
}

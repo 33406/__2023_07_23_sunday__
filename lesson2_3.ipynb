{
 "cells": [
  {
   "cell_type": "code",
   "execution_count": 5,
   "metadata": {},
   "outputs": [
    {
     "data": {
      "text/plain": [
       "False"
      ]
     },
     "execution_count": 5,
     "metadata": {},
     "output_type": "execute_result"
    }
   ],
   "source": [
    "#比較運算子\n",
    "#傳出布林值\n",
    "5 == 5\n",
    "5 != 5"
   ]
  },
  {
   "cell_type": "code",
   "execution_count": 6,
   "metadata": {},
   "outputs": [
    {
     "name": "stdout",
     "output_type": "stream",
     "text": [
      "學生總數為304\n"
     ]
    }
   ],
   "source": [
    "#加分條件\n",
    "score = int(input(\"輸入學生分數(最高300分):\"))\n",
    "if_add = input(\"是否符合加分條件?(yes,no)\")\n",
    "\n",
    "if( if_add == 'yes'):\n",
    "    score *= 1.05\n",
    "\n",
    "print(f\"學生總分為{round(score)}\")"
   ]
  }
 ],
 "metadata": {
  "kernelspec": {
   "display_name": "Python 3",
   "language": "python",
   "name": "python3"
  },
  "language_info": {
   "codemirror_mode": {
    "name": "ipython",
    "version": 3
   },
   "file_extension": ".py",
   "mimetype": "text/x-python",
   "name": "python",
   "nbconvert_exporter": "python",
   "pygments_lexer": "ipython3",
   "version": "3.10.12"
  },
  "orig_nbformat": 4
 },
 "nbformat": 4,
 "nbformat_minor": 2
}

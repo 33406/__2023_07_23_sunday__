{
 "cells": [
  {
   "cell_type": "code",
   "execution_count": 5,
   "metadata": {},
   "outputs": [
    {
     "data": {
      "text/plain": [
       "False"
      ]
     },
     "execution_count": 5,
     "metadata": {},
     "output_type": "execute_result"
    }
   ],
   "source": [
    "#比較運算子\n",
    "#傳出布林值\n",
    "5 == 5\n",
    "5 != 5"
   ]
  },
  {
   "cell_type": "code",
   "execution_count": 13,
   "metadata": {},
   "outputs": [
    {
     "name": "stdout",
     "output_type": "stream",
     "text": [
      "300\n",
      "學生總分為300\n"
     ]
    }
   ],
   "source": [
    "#加分條件\n",
    "try:\n",
    "    score = int(input(\"輸入學生分數(最高300分):\"))\n",
    "    if(score <= 300):\n",
    "\n",
    "        if_add = input(\"是否符合加分條件?(yes,no)\")\n",
    "        if( if_add == 'yes'):\n",
    "            score *= 1.05\n",
    "            if(score >= 300):\n",
    "                score = 300\n",
    "        else: print(score)\n",
    "        print(f\"學生總分為{round(score)}\")\n",
    "\n",
    "    else: print(\"超過300分,請重新輸入\")\n",
    "except: print(\"格式有誤\")"
   ]
  },
  {
   "cell_type": "code",
   "execution_count": 2,
   "metadata": {},
   "outputs": [
    {
     "name": "stdout",
     "output_type": "stream",
     "text": [
      "格式有誤\n"
     ]
    }
   ],
   "source": [
    "try:\n",
    "    score = int(input(\"輸入學生分數:\"))\n",
    "    print(f\"分數是{score}\")\n",
    "except:\n",
    "    print(\"格式有誤\")"
   ]
  },
  {
   "cell_type": "code",
   "execution_count": 3,
   "metadata": {},
   "outputs": [
    {
     "name": "stdout",
     "output_type": "stream",
     "text": [
      "U質\n"
     ]
    }
   ],
   "source": [
    "try:\n",
    "    score = int(input(\"輸入學生分數(最高100):\"))\n",
    "    if score < 60:\n",
    "        print(\"丁\")\n",
    "    elif score < 70:\n",
    "        print(\"丙\")\n",
    "    elif score < 80:\n",
    "        print(\"乙\")\n",
    "    elif score < 90:\n",
    "        print(\"甲\")\n",
    "    else:\n",
    "        print(\"U質\")\n",
    "except:\n",
    "    print(\"格式有誤\")"
   ]
  }
 ],
 "metadata": {
  "kernelspec": {
   "display_name": "Python 3",
   "language": "python",
   "name": "python3"
  },
  "language_info": {
   "codemirror_mode": {
    "name": "ipython",
    "version": 3
   },
   "file_extension": ".py",
   "mimetype": "text/x-python",
   "name": "python",
   "nbconvert_exporter": "python",
   "pygments_lexer": "ipython3",
   "version": "3.10.12"
  },
  "orig_nbformat": 4
 },
 "nbformat": 4,
 "nbformat_minor": 2
}

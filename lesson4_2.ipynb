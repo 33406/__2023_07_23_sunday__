{
 "cells": [
  {
   "cell_type": "code",
   "execution_count": null,
   "metadata": {},
   "outputs": [],
   "source": [
    "import random\n",
    "\n",
    "while True:\n",
    "    min = 1\n",
    "    max = 100\n",
    "    count = 0\n",
    "    target = random.randint(1,100)\n",
    "\n",
    "    print(\"猜數字遊戲\\n\\n\")\n",
    "    while True:\n",
    "        guess = int(input(f\"猜數字範圍{min}~{max}:\"))\n",
    "        count += 1\n",
    "        if guess >= min & guess <= max:\n",
    "            if(guess == target):\n",
    "                print(\"嘿嘿 Bingo答對了\")\n",
    "                print(f\"猜了{count}次\")\n",
    "                break\n",
    "            elif guess > target:\n",
    "                print(\"猜錯了,再小一點\")\n",
    "                max = guess - 1\n",
    "            else:\n",
    "                print(\"猜錯了,再大一點\")\n",
    "                min = guess + 1\n",
    "        else:\n",
    "            print(\"輸入範圍內的數值\")\n",
    "\n",
    "    play_again = input(\"在玩一次嗎?(y,n)\")\n",
    "    if play_again == 'n':\n",
    "        break\n",
    "print(\"遊戲結束\")"
   ]
  },
  {
   "cell_type": "code",
   "execution_count": 20,
   "metadata": {},
   "outputs": [],
   "source": [
    "def num_game():\n",
    "    import random\n",
    "    min = 1\n",
    "    max = 100\n",
    "    count = 0\n",
    "    target = random.randint(1,100)\n",
    "\n",
    "    print(\"猜數字遊戲\\n\\n\")\n",
    "    while True:\n",
    "        guess = int(input(f\"猜數字範圍{min}~{max}:\"))\n",
    "        count += 1\n",
    "        if guess >= min & guess <= max:\n",
    "            if(guess == target):\n",
    "                print(\"嘿嘿 Bingo答對了\")\n",
    "                print(f\"猜了{count}次\")\n",
    "                break\n",
    "            elif guess > target:\n",
    "                print(\"猜錯了,再小一點\")\n",
    "                max = guess - 1\n",
    "            else:\n",
    "                print(\"猜錯了,再大一點\")\n",
    "                min = guess + 1\n",
    "        else:\n",
    "            print(\"輸入範圍內的數值\")"
   ]
  },
  {
   "cell_type": "code",
   "execution_count": 19,
   "metadata": {},
   "outputs": [
    {
     "name": "stdout",
     "output_type": "stream",
     "text": [
      "猜數字遊戲\n",
      "\n",
      "\n",
      "猜錯了,再小一點\n",
      "猜錯了,再小一點\n",
      "猜錯了,再大一點\n",
      "猜錯了,再小一點\n",
      "嘿嘿 Bingo答對了\n",
      "猜了5次\n",
      "遊戲結束\n"
     ]
    }
   ],
   "source": [
    "while True:\n",
    "    num_game() #呼叫function\n",
    "    play_again = input(\"在玩一次嗎?(y,n)\")\n",
    "    if play_again == 'n':\n",
    "        break\n",
    "print(\"遊戲結束\")"
   ]
  }
 ],
 "metadata": {
  "kernelspec": {
   "display_name": "Python 3",
   "language": "python",
   "name": "python3"
  },
  "language_info": {
   "codemirror_mode": {
    "name": "ipython",
    "version": 3
   },
   "file_extension": ".py",
   "mimetype": "text/x-python",
   "name": "python",
   "nbconvert_exporter": "python",
   "pygments_lexer": "ipython3",
   "version": "3.10.12"
  },
  "orig_nbformat": 4
 },
 "nbformat": 4,
 "nbformat_minor": 2
}

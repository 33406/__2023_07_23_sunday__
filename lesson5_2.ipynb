{
 "cells": [
  {
   "cell_type": "code",
   "execution_count": 2,
   "metadata": {},
   "outputs": [],
   "source": [
    "#字串正規則表達式\n",
    "import re\n",
    "def phone_num_check(phone_num:str) -> bool:\n",
    "    phone_num_regex = re.compile(r'\\d\\d\\d\\d-\\d\\d\\d-\\d\\d\\d')\n",
    "    if phone_num_regex.match(phone_num) is None:\n",
    "        return False\n",
    "    else:\n",
    "        return True\n",
    "\n",
    "phone_num = input(\"輸入手機號碼(xxxx-xxx-xxx)\")\n",
    "if phone_num_check(phone_num):\n",
    "    print(f\"正確,號號碼為{phone_num}\")\n",
    "else:\n",
    "    print(\"格式錯誤\")"
   ]
  },
  {
   "cell_type": "code",
   "execution_count": 5,
   "metadata": {},
   "outputs": [
    {
     "name": "stdout",
     "output_type": "stream",
     "text": [
      "正確,email:tellychiu@gmail.com\n"
     ]
    }
   ],
   "source": [
    "import re\n",
    "def email_check(email:str) -> bool:\n",
    "    email_regex = re.compile(r'^\\w+([-+.]\\w+)*@\\w+([-.]\\w+)*\\.\\w+([-.]\\w+)*$')\n",
    "    if email_regex.match(email) is None:\n",
    "        return False\n",
    "    else:\n",
    "        return True\n",
    "    \n",
    "email = input(\"輸入EMAIL\")\n",
    "if email_check(email):\n",
    "    print(f\"正確,email:{email}\")\n",
    "else:\n",
    "    print(\"格式錯誤\")"
   ]
  },
  {
   "cell_type": "code",
   "execution_count": 18,
   "metadata": {},
   "outputs": [
    {
     "data": {
      "text/plain": [
       "-1"
      ]
     },
     "execution_count": 18,
     "metadata": {},
     "output_type": "execute_result"
    }
   ],
   "source": [
    "#參數的default值\n",
    "def caculator(op:str, value1 = 0, value2 = 0):\n",
    "    if op == \"+\":\n",
    "        return value1 + value2\n",
    "    elif op == \"-\":\n",
    "        return value1 - value2\n",
    "    elif op == \"*\":\n",
    "        return value1 * value2\n",
    "    elif op == \"/\":\n",
    "        return value1 / value2\n",
    "    else:\n",
    "        return -1\n",
    "#呼叫方法增加\n",
    "caculator(\"+\",10,20)\n",
    "caculator(\"*\")\n",
    "caculator(\"%\")"
   ]
  },
  {
   "cell_type": "code",
   "execution_count": 19,
   "metadata": {},
   "outputs": [
    {
     "name": "stdout",
     "output_type": "stream",
     "text": [
      "1-2-3-a-b-c-True.\n"
     ]
    }
   ],
   "source": [
    "print(1,2,3,\"a\",\"b\",\"c\",True,end=\".\\n\",sep=\"-\")"
   ]
  },
  {
   "cell_type": "code",
   "execution_count": 25,
   "metadata": {},
   "outputs": [
    {
     "data": {
      "text/plain": [
       "[76, 88, 93, 75, 90]"
      ]
     },
     "metadata": {},
     "output_type": "display_data"
    },
    {
     "name": "stdout",
     "output_type": "stream",
     "text": [
      "76 88 93 75 90 "
     ]
    },
    {
     "data": {
      "text/plain": [
       "[93, 75, 90]"
      ]
     },
     "execution_count": 25,
     "metadata": {},
     "output_type": "execute_result"
    }
   ],
   "source": [
    "#使用[]建立list\n",
    "stu1 = [76,88,93,75,90]\n",
    "display(stu1)\n",
    "\n",
    "for score in stu1:\n",
    "    print(score,end=\" \")\n",
    "\n",
    "stu1[0]#取出第一個值\n",
    "stu1[:3]#取出前三個值\n",
    "stu1[-3:]#取出後三個值"
   ]
  },
  {
   "cell_type": "code",
   "execution_count": 31,
   "metadata": {},
   "outputs": [
    {
     "data": {
      "text/plain": [
       "['d', 'o', 'g', 'e']"
      ]
     },
     "execution_count": 31,
     "metadata": {},
     "output_type": "execute_result"
    }
   ],
   "source": [
    "empty_list = []\n",
    "empty_list1 = list()\n",
    "weekdays = [\"星期一\",\"星期二\",\"星期三\",\"星期四\",\"星期五\",\"星期六\",\"星期日\",]\n",
    "list(\"doge\")"
   ]
  },
  {
   "cell_type": "code",
   "execution_count": 29,
   "metadata": {},
   "outputs": [
    {
     "data": {
      "text/plain": [
       "[0, 1, 2, 3, 4, 5, 6, 7, 8, 9]"
      ]
     },
     "execution_count": 29,
     "metadata": {},
     "output_type": "execute_result"
    }
   ],
   "source": [
    "list(range(10))"
   ]
  },
  {
   "cell_type": "code",
   "execution_count": 50,
   "metadata": {},
   "outputs": [
    {
     "data": {
      "text/plain": [
       "['taipei', 'taichung', 'tainan']"
      ]
     },
     "execution_count": 50,
     "metadata": {},
     "output_type": "execute_result"
    }
   ],
   "source": [
    "cities = []\n",
    "cities.append(\"taipei\")\n",
    "cities.append(\"taichung\")\n",
    "cities.append(\"tainan\")\n",
    "cities"
   ]
  },
  {
   "cell_type": "code",
   "execution_count": 43,
   "metadata": {},
   "outputs": [
    {
     "name": "stdout",
     "output_type": "stream",
     "text": [
      "索引出錯了\n"
     ]
    }
   ],
   "source": [
    "try:\n",
    "    cities[3]\n",
    "except IndexError:\n",
    "    print(\"索引出錯了\")\n",
    "except:\n",
    "    print(\"出錯了\")\n",
    "else:\n",
    "    print(\"沒有出錯\")"
   ]
  },
  {
   "cell_type": "code",
   "execution_count": 47,
   "metadata": {},
   "outputs": [
    {
     "name": "stdout",
     "output_type": "stream",
     "text": [
      "沒有這個值\n"
     ]
    }
   ],
   "source": [
    "cities.remove(\"taipei\")\n",
    "try:\n",
    "    cities.remove(\"taoyun\")\n",
    "except ValueError:\n",
    "    print(\"沒有這個值\")"
   ]
  },
  {
   "cell_type": "code",
   "execution_count": 49,
   "metadata": {},
   "outputs": [
    {
     "data": {
      "text/plain": [
       "[]"
      ]
     },
     "execution_count": 49,
     "metadata": {},
     "output_type": "execute_result"
    }
   ],
   "source": [
    "cities.clear()\n",
    "cities"
   ]
  }
 ],
 "metadata": {
  "kernelspec": {
   "display_name": "Python 3",
   "language": "python",
   "name": "python3"
  },
  "language_info": {
   "codemirror_mode": {
    "name": "ipython",
    "version": 3
   },
   "file_extension": ".py",
   "mimetype": "text/x-python",
   "name": "python",
   "nbconvert_exporter": "python",
   "pygments_lexer": "ipython3",
   "version": "3.10.12"
  },
  "orig_nbformat": 4
 },
 "nbformat": 4,
 "nbformat_minor": 2
}

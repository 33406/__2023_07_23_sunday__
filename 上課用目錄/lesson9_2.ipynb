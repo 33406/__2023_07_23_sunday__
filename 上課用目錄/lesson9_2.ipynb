{
 "cells": [
  {
   "cell_type": "code",
   "execution_count": 3,
   "metadata": {},
   "outputs": [
    {
     "ename": "AttributeError",
     "evalue": "module 'pandas' has no attribute 'read'",
     "output_type": "error",
     "traceback": [
      "\u001b[0;31m---------------------------------------------------------------------------\u001b[0m",
      "\u001b[0;31mAttributeError\u001b[0m                            Traceback (most recent call last)",
      "\u001b[1;32m/workspaces/__2023_07_23_sunday__/上課用目錄/lesson9_2.ipynb 儲存格 1\u001b[0m line \u001b[0;36m4\n\u001b[1;32m      <a href='vscode-notebook-cell://codespaces%2Beffective-engine-4jg77jv94gf7r4j/workspaces/__2023_07_23_sunday__/%E4%B8%8A%E8%AA%B2%E7%94%A8%E7%9B%AE%E9%8C%84/lesson9_2.ipynb#W0sdnNjb2RlLXJlbW90ZQ%3D%3D?line=0'>1</a>\u001b[0m \u001b[39mimport\u001b[39;00m \u001b[39mpandas\u001b[39;00m \u001b[39mas\u001b[39;00m \u001b[39mpd\u001b[39;00m\n\u001b[1;32m      <a href='vscode-notebook-cell://codespaces%2Beffective-engine-4jg77jv94gf7r4j/workspaces/__2023_07_23_sunday__/%E4%B8%8A%E8%AA%B2%E7%94%A8%E7%9B%AE%E9%8C%84/lesson9_2.ipynb#W0sdnNjb2RlLXJlbW90ZQ%3D%3D?line=1'>2</a>\u001b[0m \u001b[39mimport\u001b[39;00m \u001b[39mnumpy\u001b[39;00m \u001b[39mas\u001b[39;00m \u001b[39mnp\u001b[39;00m\n\u001b[0;32m----> <a href='vscode-notebook-cell://codespaces%2Beffective-engine-4jg77jv94gf7r4j/workspaces/__2023_07_23_sunday__/%E4%B8%8A%E8%AA%B2%E7%94%A8%E7%9B%AE%E9%8C%84/lesson9_2.ipynb#W0sdnNjb2RlLXJlbW90ZQ%3D%3D?line=3'>4</a>\u001b[0m df \u001b[39m=\u001b[39m pd\u001b[39m.\u001b[39;49mread(\u001b[39m\"\u001b[39m\u001b[39mworld.csv\u001b[39m\u001b[39m\"\u001b[39m)\n\u001b[1;32m      <a href='vscode-notebook-cell://codespaces%2Beffective-engine-4jg77jv94gf7r4j/workspaces/__2023_07_23_sunday__/%E4%B8%8A%E8%AA%B2%E7%94%A8%E7%9B%AE%E9%8C%84/lesson9_2.ipynb#W0sdnNjb2RlLXJlbW90ZQ%3D%3D?line=4'>5</a>\u001b[0m df\n",
      "\u001b[0;31mAttributeError\u001b[0m: module 'pandas' has no attribute 'read'"
     ]
    }
   ],
   "source": [
    "import pandas as pd\n",
    "import numpy as np\n",
    "\n",
    "df = pd.read(\"world.csv\")\n",
    "df"
   ]
  }
 ],
 "metadata": {
  "kernelspec": {
   "display_name": "Python 3",
   "language": "python",
   "name": "python3"
  },
  "language_info": {
   "codemirror_mode": {
    "name": "ipython",
    "version": 3
   },
   "file_extension": ".py",
   "mimetype": "text/x-python",
   "name": "python",
   "nbconvert_exporter": "python",
   "pygments_lexer": "ipython3",
   "version": "3.10.12"
  },
  "orig_nbformat": 4
 },
 "nbformat": 4,
 "nbformat_minor": 2
}

{
 "cells": [
  {
   "cell_type": "code",
   "execution_count": 14,
   "metadata": {},
   "outputs": [],
   "source": [
    "#檢查手機號碼輸入格式(xxxx-xxx-xxx)\n",
    "def phone_num_check(phone_num:str) -> bool :\n",
    "    if len(phone_num) != 12:\n",
    "        return False\n",
    "    elif not phone_num[:4].isdigit():\n",
    "        return False\n",
    "    elif phone_num[4] != \"-\":\n",
    "        return False\n",
    "    elif not phone_num[5:8].isdigit():\n",
    "        return False\n",
    "    elif phone_num[8] != \"-\":\n",
    "        return False\n",
    "    elif not phone_num[9:12].isdigit():\n",
    "        return False\n",
    "    else:\n",
    "        return True"
   ]
  },
  {
   "cell_type": "code",
   "execution_count": 19,
   "metadata": {},
   "outputs": [
    {
     "name": "stdout",
     "output_type": "stream",
     "text": [
      "格式錯誤\n"
     ]
    }
   ],
   "source": [
    "phone_num = input(\"輸入手機號碼(xxxx-xxx-xxx)\")\n",
    "if phone_num_check(phone_num):\n",
    "    print(f\"正確,號號碼為{phone_num}\")\n",
    "else:\n",
    "    print(\"格式錯誤\")"
   ]
  },
  {
   "cell_type": "code",
   "execution_count": 17,
   "metadata": {},
   "outputs": [],
   "source": [
    "#字串正規則表達式\n",
    "import re\n",
    "def phone_num_check(phone_num:str) -> bool:\n",
    "    phone_num_regex = re.compile(r'\\d\\d\\d\\d-\\d\\d\\d-\\d\\d\\d')\n",
    "    if phone_num_regex.match(phone_num) is None:\n",
    "        return False\n",
    "    else:\n",
    "        return True"
   ]
  }
 ],
 "metadata": {
  "kernelspec": {
   "display_name": "Python 3",
   "language": "python",
   "name": "python3"
  },
  "language_info": {
   "codemirror_mode": {
    "name": "ipython",
    "version": 3
   },
   "file_extension": ".py",
   "mimetype": "text/x-python",
   "name": "python",
   "nbconvert_exporter": "python",
   "pygments_lexer": "ipython3",
   "version": "3.10.12"
  },
  "orig_nbformat": 4
 },
 "nbformat": 4,
 "nbformat_minor": 2
}

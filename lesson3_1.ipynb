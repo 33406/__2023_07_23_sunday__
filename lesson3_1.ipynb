{
 "cells": [
  {
   "cell_type": "code",
   "execution_count": 7,
   "metadata": {},
   "outputs": [
    {
     "name": "stdout",
     "output_type": "stream",
     "text": [
      "第4層\n",
      "學生等第是:U質\n"
     ]
    }
   ],
   "source": [
    "score = int(input(\"輸入學生分數(最高100):\"))\n",
    "\n",
    "if score < 60:\n",
    "    grade = \"丁\"\n",
    "    print(\"第0層\")\n",
    "elif score < 70:\n",
    "    grade = \"丙\"\n",
    "    print(\"第1層\")\n",
    "elif score < 80:\n",
    "    grade = \"乙\"\n",
    "    print(\"第2層\")\n",
    "elif score < 90:\n",
    "    grade = \"甲\"\n",
    "    print(\"第3層\")\n",
    "else:\n",
    "    grade = \"U質\"\n",
    "    print(\"第4層\")\n",
    "\n",
    "print(f\"學生等第是:{grade}\")"
   ]
  },
  {
   "cell_type": "code",
   "execution_count": 13,
   "metadata": {},
   "outputs": [
    {
     "name": "stdout",
     "output_type": "stream",
     "text": [
      "x格式錯誤\n"
     ]
    }
   ],
   "source": [
    "try:\n",
    "    x = int(input(\"請輸入x的整數\"))\n",
    "except:\n",
    "    print(\"x格式錯誤\")\n",
    "else:\n",
    "    try:\n",
    "        y = int(input(\"請輸入y的整數\"))\n",
    "        root = 0\n",
    "\n",
    "        if x >= 0:\n",
    "            root = x ** (1/y)\n",
    "        elif x % 2 == 0:\n",
    "            root = 0\n",
    "        else:\n",
    "            root = -(-x) ** (1/y)\n",
    "\n",
    "        print(f\"root={root}\")\n",
    "    except:\n",
    "        print(\"y格式錯誤\")"
   ]
  },
  {
   "cell_type": "code",
   "execution_count": 21,
   "metadata": {},
   "outputs": [
    {
     "name": "stdout",
     "output_type": "stream",
     "text": [
      "實付金額為91611元\n"
     ]
    }
   ],
   "source": [
    "import math\n",
    "money = int(input(\"輸入購買金額:\"))\n",
    "pay_money = 0\n",
    "\n",
    "if money < 10000:\n",
    "    pay_money = money\n",
    "elif money < 30000:\n",
    "    pay_money = money * 0.95\n",
    "elif money < 50000:\n",
    "    pay_money = money * 0.90\n",
    "elif money < 100000:\n",
    "    pay_money = money * 0.85\n",
    "else:\n",
    "    pay_money = money * 0.80\n",
    "\n",
    "print(f\"實付金額為{pay_money:.0f}元\")\n",
    "# print(f\"實付金額為{int(pay_money)}元\")\n",
    "# print(f\"實付金額為{round(pay_money)}元\")\n",
    "# print(f\"實付金額為{math.ceil(pay_money):.1f}元\")"
   ]
  },
  {
   "cell_type": "code",
   "execution_count": 2,
   "metadata": {},
   "outputs": [
    {
     "name": "stdout",
     "output_type": "stream",
     "text": [
      "獎金為500\n"
     ]
    }
   ],
   "source": [
    "chinese = int(input(\"輸入國文分數:\"))\n",
    "math = int(input(\"輸入數學分數:\"))\n",
    "\n",
    "if (chinese == 100) & (math == 100):\n",
    "    bonus = 1000\n",
    "elif (chinese == 100) | (math == 100):\n",
    "    bonus = 500\n",
    "else:\n",
    "    bonus = 0\n",
    "\n",
    "print(f\"獎金為{bonus}\")"
   ]
  },
  {
   "cell_type": "code",
   "execution_count": 3,
   "metadata": {},
   "outputs": [
    {
     "name": "stdout",
     "output_type": "stream",
     "text": [
      "在351和400之間\n"
     ]
    }
   ],
   "source": [
    "num = int(input(\"輸入號碼:\"))\n",
    "if num >= 351 & num <= 400:\n",
    "    print(\"在351和400之間\")\n",
    "else:\n",
    "    print(\"不在351和400之間\")"
   ]
  }
 ],
 "metadata": {
  "kernelspec": {
   "display_name": "Python 3",
   "language": "python",
   "name": "python3"
  },
  "language_info": {
   "codemirror_mode": {
    "name": "ipython",
    "version": 3
   },
   "file_extension": ".py",
   "mimetype": "text/x-python",
   "name": "python",
   "nbconvert_exporter": "python",
   "pygments_lexer": "ipython3",
   "version": "3.10.12"
  },
  "orig_nbformat": 4
 },
 "nbformat": 4,
 "nbformat_minor": 2
}

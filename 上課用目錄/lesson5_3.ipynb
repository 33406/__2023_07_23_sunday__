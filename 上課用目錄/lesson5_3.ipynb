{
 "cells": [
  {
   "cell_type": "code",
   "execution_count": 2,
   "metadata": {},
   "outputs": [
    {
     "name": "stdout",
     "output_type": "stream",
     "text": [
      "1.a\n",
      "2.b\n",
      "3.c\n",
      "4.d\n",
      "5.e\n"
     ]
    }
   ],
   "source": [
    "file = open(\"names.txt\",mode = 'r',encoding = 'utf-8')\n",
    "print(file.read())"
   ]
  },
  {
   "cell_type": "code",
   "execution_count": 3,
   "metadata": {},
   "outputs": [
    {
     "data": {
      "text/plain": [
       "''"
      ]
     },
     "execution_count": 3,
     "metadata": {},
     "output_type": "execute_result"
    }
   ],
   "source": [
    "file.readline()"
   ]
  },
  {
   "cell_type": "code",
   "execution_count": 4,
   "metadata": {},
   "outputs": [
    {
     "data": {
      "text/plain": [
       "5"
      ]
     },
     "execution_count": 4,
     "metadata": {},
     "output_type": "execute_result"
    }
   ],
   "source": [
    "file = open(\"names.txt\",mode = 'r',encoding = 'utf-8')\n",
    "names:list[str] = []\n",
    "for line in file:\n",
    "    line = line.rstrip(\"\\n\")\n",
    "    names.append(line)\n",
    "file.close()\n",
    "len(names)"
   ]
  },
  {
   "cell_type": "code",
   "execution_count": 5,
   "metadata": {},
   "outputs": [
    {
     "name": "stdout",
     "output_type": "stream",
     "text": [
      "Biden.b\n",
      "Biden.b\n",
      "Biden.d\n",
      "Biden.b\n",
      "Biden.e\n"
     ]
    }
   ],
   "source": [
    "#亂數抓一個姓名\n",
    "import random\n",
    "first_name = \"Biden\"\n",
    "for _ in range(5):\n",
    "    random_name = random.choice(names)\n",
    "    print(first_name + random_name[1:])"
   ]
  }
 ],
 "metadata": {
  "kernelspec": {
   "display_name": "Python 3",
   "language": "python",
   "name": "python3"
  },
  "language_info": {
   "codemirror_mode": {
    "name": "ipython",
    "version": 3
   },
   "file_extension": ".py",
   "mimetype": "text/x-python",
   "name": "python",
   "nbconvert_exporter": "python",
   "pygments_lexer": "ipython3",
   "version": "3.10.12"
  },
  "orig_nbformat": 4
 },
 "nbformat": 4,
 "nbformat_minor": 2
}
